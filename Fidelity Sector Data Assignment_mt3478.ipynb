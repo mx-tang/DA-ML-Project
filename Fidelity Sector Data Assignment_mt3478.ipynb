{
 "cells": [
  {
   "cell_type": "markdown",
   "metadata": {},
   "source": [
    "<h1>Scraping Fidelity.com</h1>\n",
    "In this assignment, you will scrape data from fidelity.com. The goal of the exercise is to get the latest sector performance data from the US markets, and to get the total market capitalization for each sector. \n",
    "\n",
    "The end result is to write a function: <i>get_us_sector_performance()</i> that will return a list of tuples. Each tuple should correspond to a sector and should contain the following data:\n",
    "<li>the sector name\n",
    "<li>the amount the sector has moved\n",
    "<li>the market capitalization of the sector\n",
    "<li>the market weight of the sector\n",
    "<li>a link to the fidelity page for that sector\n",
    "\n",
    "<p>\n",
    "The data should be sorted by decreasing order of market weight. I.e., the sector with the highest weight should be in the first tuple, etc."
   ]
  },
  {
   "cell_type": "markdown",
   "metadata": {},
   "source": [
    "<h3>Process</h3>\n",
    "<li>Get a list of sectors and the links to the sector detail pages from the url (see function)\n",
    "<li>Loop through the list and call the function <i>get_sector_change_and_market_cap(sector_page_link)</i> for each sector\n",
    "<li>Accumulate the name, the change, the capitalization, the weight and the link for each sector in output_list (see function)\n",
    "<li>Sort the list by market weight"
   ]
  },
  {
   "cell_type": "markdown",
   "metadata": {},
   "source": [
    "<b>Notes:</b>\n",
    "<li>Note that the market weight is a string with a % sign at the back. You will need to get rid of the % and convert the string into a float before you can sort it\n",
    "<li>Your starting data is the url listed below. You need to extract all data, including links to the sector pages, from the page at this url\n",
    "<li>To sort a list of tuples by an arbitrary element, use the example at the bottom of this notebook"
   ]
  },
  {
   "cell_type": "code",
   "execution_count": 1,
   "metadata": {},
   "outputs": [],
   "source": [
    "import requests\n",
    "from bs4 import BeautifulSoup"
   ]
  },
  {
   "cell_type": "code",
   "execution_count": 85,
   "metadata": {},
   "outputs": [],
   "source": [
    "def get_us_sector_performance():\n",
    "    output_list = list()\n",
    "    url = \"https://eresearch.fidelity.com/eresearch/goto/markets_sectors/landing.jhtml\"\n",
    "\n",
    "    \n",
    "    ## **** Your code goes here ****\n",
    "    response=requests.get(url)\n",
    "    if response.status_code == 200:\n",
    "        pass\n",
    "    else:\n",
    "        print(\"Failure\")\n",
    "    \n",
    "    ### find the place where there're section performance\n",
    "    results_page = BeautifulSoup(response.content,'lxml')\n",
    "    soup=results_page.find('div',class_='performance-section')\n",
    "    section=soup.find_all('div',class_='heading')\n",
    "    sec_info=[]\n",
    "    for item in section:\n",
    "        sec_info.append((item.get_text(), item.find('a',class_='heading1').get('href')))\n",
    "    \n",
    "    ### loop for sec_info list and call func get_sector_change_and_market_cap(sector_page_link)\n",
    "    h='https://eresearch.fidelity.com' \n",
    "    for item in sec_info:\n",
    "        url2=h+item[1]\n",
    "        sector_change,sector_market_cap,sector_market_weight=get_sector_change_and_market_cap(url2)\n",
    "        res=[item[0],sector_change,sector_market_cap,sector_market_weight,url2]\n",
    "        res=tuple(res)\n",
    "        output_list.append(res)\n",
    "    \n",
    "    output_list.sort(key=lambda x: x[3],reverse=True)\n",
    "        \n",
    "    \n",
    "    return output_list\n",
    "    "
   ]
  },
  {
   "cell_type": "code",
   "execution_count": 86,
   "metadata": {},
   "outputs": [],
   "source": [
    "######## I think we should run this module before the above one!!!\n",
    "def get_sector_change_and_market_cap(sector_page_link):\n",
    "    \n",
    "    ##**** Your code goes here ****\n",
    "    response=requests.get(sector_page_link)\n",
    "    if response.status_code == 200:\n",
    "        pass\n",
    "    else:\n",
    "        print(\"Failure\")\n",
    "    \n",
    "    ### find the data table\n",
    "    results_page = BeautifulSoup(response.content,'lxml')\n",
    "    data=results_page.find('table',class_='snapshot-data-tbl').find_all('span')\n",
    "    \n",
    "    ### extract the needed data\n",
    "    # sector_change\n",
    "    a1=data[0].get_text()\n",
    "    if a1[0]=='+':\n",
    "        sector_change=float(a1[1:len(a1)-1].strip(' '))\n",
    "    else:\n",
    "        sector_change=float(a1[0:len(a1)-1].strip(' '))\n",
    "    \n",
    "    # sector_market_cap\n",
    "    sector_market_cap=data[2].get_text()\n",
    "    \n",
    "    # sector_market_weight\n",
    "    a3=data[4].get_text()\n",
    "    sector_market_weight=float(a3[0:len(a3)-1].strip(' '))\n",
    "    \n",
    "    \n",
    "    return sector_change,sector_market_cap,sector_market_weight"
   ]
  },
  {
   "cell_type": "code",
   "execution_count": 87,
   "metadata": {},
   "outputs": [
    {
     "data": {
      "text/plain": [
       "(0.92, '$9.01T', 12.85)"
      ]
     },
     "execution_count": 87,
     "metadata": {},
     "output_type": "execute_result"
    }
   ],
   "source": [
    "#Test get_sector_change_and_market_cap()\n",
    "link = \"https://eresearch.fidelity.com/eresearch/markets_sectors/sectors/sectors_in_market.jhtml?tab=learn&sector=25\"\n",
    "get_sector_change_and_market_cap(link)\n",
    "#Should return (-0.40, $3.58T, 6.80)\n",
    "#Note that neither the -0.40, nor the 6.80, end with a %sign"
   ]
  },
  {
   "cell_type": "code",
   "execution_count": 89,
   "metadata": {},
   "outputs": [
    {
     "data": {
      "text/plain": [
       "[('Information Technology',\n",
       "  -0.22,\n",
       "  '$14.18T',\n",
       "  27.76,\n",
       "  'https://eresearch.fidelity.com/eresearch/markets_sectors/sectors/sectors_in_market.jhtml?tab=learn&sector=45'),\n",
       " ('Health Care',\n",
       "  0.25,\n",
       "  '$7.66T',\n",
       "  13.77,\n",
       "  'https://eresearch.fidelity.com/eresearch/markets_sectors/sectors/sectors_in_market.jhtml?tab=learn&sector=35'),\n",
       " ('Consumer Discretionary',\n",
       "  0.92,\n",
       "  '$9.01T',\n",
       "  12.85,\n",
       "  'https://eresearch.fidelity.com/eresearch/markets_sectors/sectors/sectors_in_market.jhtml?tab=learn&sector=25'),\n",
       " ('Communication Services',\n",
       "  0.95,\n",
       "  '$6.13T',\n",
       "  10.71,\n",
       "  'https://eresearch.fidelity.com/eresearch/markets_sectors/sectors/sectors_in_market.jhtml?tab=learn&sector=50'),\n",
       " ('Financials',\n",
       "  0.09,\n",
       "  '$7.28T',\n",
       "  10.34,\n",
       "  'https://eresearch.fidelity.com/eresearch/markets_sectors/sectors/sectors_in_market.jhtml?tab=learn&sector=40'),\n",
       " ('Industrials',\n",
       "  0.53,\n",
       "  '$5.12T',\n",
       "  8.11,\n",
       "  'https://eresearch.fidelity.com/eresearch/markets_sectors/sectors/sectors_in_market.jhtml?tab=learn&sector=20'),\n",
       " ('Consumer Staples',\n",
       "  0.89,\n",
       "  '$4.20T',\n",
       "  6.23,\n",
       "  'https://eresearch.fidelity.com/eresearch/markets_sectors/sectors/sectors_in_market.jhtml?tab=learn&sector=30'),\n",
       " ('Utilities',\n",
       "  0.54,\n",
       "  '$1.58T',\n",
       "  2.76,\n",
       "  'https://eresearch.fidelity.com/eresearch/markets_sectors/sectors/sectors_in_market.jhtml?tab=learn&sector=55'),\n",
       " ('Materials',\n",
       "  1.71,\n",
       "  '$2.38T',\n",
       "  2.59,\n",
       "  'https://eresearch.fidelity.com/eresearch/markets_sectors/sectors/sectors_in_market.jhtml?tab=learn&sector=15'),\n",
       " ('Real Estate',\n",
       "  0.34,\n",
       "  '$1.45T',\n",
       "  2.46,\n",
       "  'https://eresearch.fidelity.com/eresearch/markets_sectors/sectors/sectors_in_market.jhtml?tab=learn&sector=60'),\n",
       " ('Energy',\n",
       "  0.93,\n",
       "  '$2.31T',\n",
       "  2.41,\n",
       "  'https://eresearch.fidelity.com/eresearch/markets_sectors/sectors/sectors_in_market.jhtml?tab=learn&sector=10')]"
      ]
     },
     "execution_count": 89,
     "metadata": {},
     "output_type": "execute_result"
    }
   ],
   "source": [
    "####### TEST HERE!!!!!!!\n",
    "get_us_sector_performance()"
   ]
  },
  {
   "cell_type": "markdown",
   "metadata": {},
   "source": [
    "### it seems like that the annotation in Jupyter notebook should not use three quotation marks, this would cause all output in the below module the same as your annotation"
   ]
  },
  {
   "cell_type": "code",
   "execution_count": 79,
   "metadata": {},
   "outputs": [
    {
     "data": {
      "text/plain": [
       "\"\\n[('Telecommunication Services',\\n  0.21,\\n  '$1.74T',\\n  2.0,\\n  'https://eresearch.fidelity.com/eresearch/markets_sectors/sectors/sectors_in_market.jhtml?tab=learn&sector=50'),\\n ('Materials',\\n  0.22,\\n  '$1.95T',\\n  2.49,\\n  'https://eresearch.fidelity.com/eresearch/markets_sectors/sectors/sectors_in_market.jhtml?tab=learn&sector=15'),\\n ('Real Estate',\\n  -0.45,\\n  '$1.22T',\\n  2.7,\\n  'https://eresearch.fidelity.com/eresearch/markets_sectors/sectors/sectors_in_market.jhtml?tab=learn&sector=60'),\\n ('Utilities',\\n  -0.33,\\n  '$1.25T',\\n  2.86,\\n  'https://eresearch.fidelity.com/eresearch/markets_sectors/sectors/sectors_in_market.jhtml?tab=learn&sector=55'),\\n ('Energy',\\n  0.76,\\n  '$3.90T',\\n  5.83,\\n  'https://eresearch.fidelity.com/eresearch/markets_sectors/sectors/sectors_in_market.jhtml?tab=learn&sector=10'),\\n ('Consumer Staples',\\n  -0.32,\\n  '$3.58T',\\n  6.8,\\n  'https://eresearch.fidelity.com/eresearch/markets_sectors/sectors/sectors_in_market.jhtml?tab=learn&sector=30'),\\n ('Industrials',\\n  0.72,\\n  '$4.31T',\\n  9.83,\\n  'https://eresearch.fidelity.com/eresearch/markets_sectors/sectors/sectors_in_market.jhtml?tab=learn&sector=20'),\\n ('Consumer Discretionary',\\n  1.03,\\n  '$5.76T',\\n  12.9,\\n  'https://eresearch.fidelity.com/eresearch/markets_sectors/sectors/sectors_in_market.jhtml?tab=learn&sector=25'),\\n ('Financials',\\n  0.39,\\n  '$7.45T',\\n  13.71,\\n  'https://eresearch.fidelity.com/eresearch/markets_sectors/sectors/sectors_in_market.jhtml?tab=learn&sector=40'),\\n ('Health Care',\\n  0.76,\\n  '$5.70T',\\n  14.71,\\n  'https://eresearch.fidelity.com/eresearch/markets_sectors/sectors/sectors_in_market.jhtml?tab=learn&sector=35'),\\n ('Information Technology',\\n  0.81,\\n  '$9.84T',\\n  26.17,\\n  'https://eresearch.fidelity.com/eresearch/markets_sectors/sectors/sectors_in_market.jhtml?tab=learn&sector=45')]\\n  \\n\""
      ]
     },
     "execution_count": 79,
     "metadata": {},
     "output_type": "execute_result"
    }
   ],
   "source": [
    "#Test get_us_sector_performance()\n",
    "get_us_sector_performance()\n",
    "#Should return (example: obviously the results will vary over time!)\n",
    "\"\"\"\n",
    "[('Telecommunication Services',\n",
    "  0.21,\n",
    "  '$1.74T',\n",
    "  2.0,\n",
    "  'https://eresearch.fidelity.com/eresearch/markets_sectors/sectors/sectors_in_market.jhtml?tab=learn&sector=50'),\n",
    " ('Materials',\n",
    "  0.22,\n",
    "  '$1.95T',\n",
    "  2.49,\n",
    "  'https://eresearch.fidelity.com/eresearch/markets_sectors/sectors/sectors_in_market.jhtml?tab=learn&sector=15'),\n",
    " ('Real Estate',\n",
    "  -0.45,\n",
    "  '$1.22T',\n",
    "  2.7,\n",
    "  'https://eresearch.fidelity.com/eresearch/markets_sectors/sectors/sectors_in_market.jhtml?tab=learn&sector=60'),\n",
    " ('Utilities',\n",
    "  -0.33,\n",
    "  '$1.25T',\n",
    "  2.86,\n",
    "  'https://eresearch.fidelity.com/eresearch/markets_sectors/sectors/sectors_in_market.jhtml?tab=learn&sector=55'),\n",
    " ('Energy',\n",
    "  0.76,\n",
    "  '$3.90T',\n",
    "  5.83,\n",
    "  'https://eresearch.fidelity.com/eresearch/markets_sectors/sectors/sectors_in_market.jhtml?tab=learn&sector=10'),\n",
    " ('Consumer Staples',\n",
    "  -0.32,\n",
    "  '$3.58T',\n",
    "  6.8,\n",
    "  'https://eresearch.fidelity.com/eresearch/markets_sectors/sectors/sectors_in_market.jhtml?tab=learn&sector=30'),\n",
    " ('Industrials',\n",
    "  0.72,\n",
    "  '$4.31T',\n",
    "  9.83,\n",
    "  'https://eresearch.fidelity.com/eresearch/markets_sectors/sectors/sectors_in_market.jhtml?tab=learn&sector=20'),\n",
    " ('Consumer Discretionary',\n",
    "  1.03,\n",
    "  '$5.76T',\n",
    "  12.9,\n",
    "  'https://eresearch.fidelity.com/eresearch/markets_sectors/sectors/sectors_in_market.jhtml?tab=learn&sector=25'),\n",
    " ('Financials',\n",
    "  0.39,\n",
    "  '$7.45T',\n",
    "  13.71,\n",
    "  'https://eresearch.fidelity.com/eresearch/markets_sectors/sectors/sectors_in_market.jhtml?tab=learn&sector=40'),\n",
    " ('Health Care',\n",
    "  0.76,\n",
    "  '$5.70T',\n",
    "  14.71,\n",
    "  'https://eresearch.fidelity.com/eresearch/markets_sectors/sectors/sectors_in_market.jhtml?tab=learn&sector=35'),\n",
    " ('Information Technology',\n",
    "  0.81,\n",
    "  '$9.84T',\n",
    "  26.17,\n",
    "  'https://eresearch.fidelity.com/eresearch/markets_sectors/sectors/sectors_in_market.jhtml?tab=learn&sector=45')]\n",
    "  \n",
    "\"\"\""
   ]
  },
  {
   "cell_type": "markdown",
   "metadata": {},
   "source": [
    "<h3>Sorting</h3>"
   ]
  },
  {
   "cell_type": "code",
   "execution_count": null,
   "metadata": {},
   "outputs": [],
   "source": [
    "x = [('a',23.2,'b'),('c',17.4,'f'),('d',29.2,'z'),('e',1.74,'bb')]\n",
    "x.sort() #Sorts by the first element of the tuple\n",
    "x"
   ]
  },
  {
   "cell_type": "code",
   "execution_count": null,
   "metadata": {},
   "outputs": [],
   "source": [
    "x = [('a',23.2,'b'),('c',17.4,'f'),('d',29.2,'z'),('e',1.74,'bb')]\n",
    "x.sort(key=lambda k: k[1]) #Sorts by the element at position 1\n",
    "x"
   ]
  },
  {
   "cell_type": "code",
   "execution_count": null,
   "metadata": {
    "collapsed": true
   },
   "outputs": [],
   "source": []
  }
 ],
 "metadata": {
  "kernelspec": {
   "display_name": "Python 3",
   "language": "python",
   "name": "python3"
  },
  "language_info": {
   "codemirror_mode": {
    "name": "ipython",
    "version": 3
   },
   "file_extension": ".py",
   "mimetype": "text/x-python",
   "name": "python",
   "nbconvert_exporter": "python",
   "pygments_lexer": "ipython3",
   "version": "3.8.5"
  }
 },
 "nbformat": 4,
 "nbformat_minor": 2
}
